{
  "cells": [
    {
      "cell_type": "markdown",
      "metadata": {
        "id": "view-in-github",
        "colab_type": "text"
      },
      "source": [
        "<a href=\"https://colab.research.google.com/github/hiroki-tech/Test---Public/blob/main/01_%E6%96%87%E5%AD%97%E5%88%97.ipynb\" target=\"_parent\"><img src=\"https://colab.research.google.com/assets/colab-badge.svg\" alt=\"Open In Colab\"/></a>"
      ]
    },
    {
      "cell_type": "markdown",
      "metadata": {
        "id": "elR5dnEccpZW"
      },
      "source": [
        "## 文字列の操作\n",
        "\n",
        "### 問題3 文字列の代入(format/f-strings)\n",
        "以下の文章の「〇〇」に対して`.format()`とf-stringsを使って代入しましょう。  \n",
        "「私は〇〇です。〇〇出身です。」\n",
        "\n",
        "（目安時間：1分）\n",
        "\n",
        "**解答**"
      ]
    },
    {
      "cell_type": "code",
      "source": [],
      "metadata": {
        "id": "neKQRL3HfPlI"
      },
      "execution_count": null,
      "outputs": []
    },
    {
      "cell_type": "markdown",
      "metadata": {
        "id": "tTfkxRqfcpZa"
      },
      "source": [
        "### 問題4 エスケープ文字\n",
        "\n",
        "次の文字列を句読点で改行しましょう。\n",
        "\n",
        "「いつもの帰り道とは違うルートで帰ってみようかな。迷子にならないか心配だけど。」\n",
        "\n",
        "↓\n",
        "\n",
        "「いつもの帰り道とは違うルートで帰ってみようかな。  \n",
        "迷子にならないか心配だけど。」\n",
        "\n",
        "（目安時間：1分）\n",
        "\n",
        "**解答**\n",
        "\n",
        "\n"
      ]
    },
    {
      "cell_type": "markdown",
      "metadata": {
        "id": "Ffl-T348cpZb"
      },
      "source": [
        "### 問題5 書式化\n",
        "\n",
        "`16.0`という値を次の書式で表示しましょう。\n",
        "\n",
        "- 符号付き10進数\n",
        "- 符号付き16進数\n",
        "- 10進浮動小数点\n",
        "\n",
        "（目安時間：1分）\n",
        "\n",
        "**解答**\n"
      ]
    },
    {
      "cell_type": "markdown",
      "metadata": {
        "id": "JuX-B-8_cpZb"
      },
      "source": [
        "### 問題6 大文字・小文字への変換\n",
        "\n",
        "以下の文字列を小文字→大文字、大文字→小文字への変換を行いましょう\n",
        "\n",
        "- `'hello'`\n",
        "- `'WORLD'`\n",
        "\n",
        "（目安時間：1分）\n",
        "\n",
        "**解答**\n",
        "\n",
        "\n"
      ]
    },
    {
      "cell_type": "markdown",
      "metadata": {
        "id": "yAohuEkzcpZc"
      },
      "source": [
        "### 問題7 分割\n",
        "こちらの文章を改行部分で分割しましょう。\n",
        "\n",
        "「こんにちは。\\n私はAIのロボットです。」\n",
        "\n",
        "（目安時間：1分）\n",
        "\n",
        "**解答**\n",
        "\n",
        "\n"
      ]
    },
    {
      "cell_type": "markdown",
      "metadata": {
        "id": "T140ba8xcpZc"
      },
      "source": [
        "### 問題8 結合\n",
        "以下のリスト内に入っている文字列を結合して一つの文にしましょう。\n",
        "\n",
        "```python\n",
        "messages = ['こんにちは。', '私はAIのロボットです。']\n",
        "```\n",
        "\n",
        "（目安時間：1分）\n",
        "\n",
        "**解答**\n",
        "\n",
        "\n"
      ]
    },
    {
      "cell_type": "markdown",
      "metadata": {
        "id": "AEFTVqX2cpZd"
      },
      "source": [
        "### 問題9 空白除去\n",
        "文のはじめと最後にある空白を除去しましょう。  \n",
        "\n",
        "「　いつも食べるここのケーキはとても美味しいね。　」\n",
        "\n",
        "※全角スペースです\n",
        "\n",
        "\n",
        "（目安時間：1分）\n",
        "\n",
        "**解答**\n",
        "\n",
        "\n"
      ]
    },
    {
      "cell_type": "markdown",
      "metadata": {
        "id": "rVEFZAdscpZe"
      },
      "source": [
        "### 問題10 置換\n",
        "以下の文の「晴れ」を「雨」に置換してください。\n",
        "\n",
        "「今日は晴れですね。」\n",
        "（目安時間：1分）\n",
        "\n",
        "**解答**"
      ]
    },
    {
      "cell_type": "markdown",
      "metadata": {
        "id": "wX4r8NtlcpZf"
      },
      "source": [
        "### 問題11 文字列検索\n",
        "以下のフレーズの中から「夜空」を検索し、その位置を出力しましょう。\n",
        "\n",
        "「今日はとても夜空が綺麗だ。」\n",
        "\n",
        "\n",
        "（目安時間：1分）\n",
        "\n",
        "**解答**"
      ]
    },
    {
      "cell_type": "markdown",
      "metadata": {
        "id": "_qr6e4SNcpZg"
      },
      "source": [
        "### 問題12 型変換\n",
        "以下のデータ型を文字列型に変換しましょう。\n",
        "\n",
        "- int:`x = 1`\n",
        "- float: `x = 1.52`\n",
        "- list: `x = [1, 2, 3]`\n",
        "- dict: `x = dict(name='john', birth='US')`\n",
        "\n",
        "（目安時間：2分）\n",
        "\n",
        "**解答**\n",
        "\n",
        "\n"
      ]
    },
    {
      "cell_type": "markdown",
      "metadata": {
        "id": "rIUXxStkcpZg"
      },
      "source": [
        "### 問題13 包含関係\n",
        "以下の文字列Aが文字列Bに含まれているか確認しましょう。\n",
        "\n",
        "- A: `'sba'`, B: `'gasba'`\n",
        "- A: `'xdh'`, B: `'orweit'`\n",
        "\n",
        "（目安時間：1分）\n",
        "\n",
        "**解答**\n"
      ]
    }
  ],
  "metadata": {
    "kernelspec": {
      "display_name": "Python 3",
      "language": "python",
      "name": "python3"
    },
    "language_info": {
      "codemirror_mode": {
        "name": "ipython",
        "version": 3
      },
      "file_extension": ".py",
      "mimetype": "text/x-python",
      "name": "python",
      "nbconvert_exporter": "python",
      "pygments_lexer": "ipython3",
      "version": "3.6.5"
    },
    "colab": {
      "provenance": [],
      "include_colab_link": true
    }
  },
  "nbformat": 4,
  "nbformat_minor": 0
}